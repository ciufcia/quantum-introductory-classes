{
  "nbformat": 4,
  "nbformat_minor": 0,
  "metadata": {
    "colab": {
      "provenance": []
    },
    "kernelspec": {
      "name": "python3",
      "display_name": "Python 3"
    },
    "language_info": {
      "name": "python"
    }
  },
  "cells": [
    {
      "cell_type": "code",
      "execution_count": 1,
      "metadata": {
        "colab": {
          "base_uri": "https://localhost:8080/"
        },
        "id": "DqaXPyhuJMwS",
        "outputId": "5226891d-dafc-4055-c65b-b5b11626a88d"
      },
      "outputs": [
        {
          "output_type": "stream",
          "name": "stdout",
          "text": [
            "[[1 2 3]\n",
            " [4 5 6]]\n"
          ]
        }
      ],
      "source": [
        "import numpy as np\n",
        "\n",
        "A = np.array([[1, 2, 3],\n",
        "              [4, 5, 6]])\n",
        "print(A)\n"
      ]
    },
    {
      "cell_type": "code",
      "source": [
        "# sum\n",
        "\n",
        "B = np.array([[7, 8, 9],\n",
        "              [10, 11, 12]])\n",
        "\n",
        "print(\"A + B =\")\n",
        "print(A + B)\n"
      ],
      "metadata": {
        "colab": {
          "base_uri": "https://localhost:8080/"
        },
        "id": "vMBIbRh8eVNm",
        "outputId": "7dd3a730-7e0c-4ff2-d893-21c129972d26"
      },
      "execution_count": 2,
      "outputs": [
        {
          "output_type": "stream",
          "name": "stdout",
          "text": [
            "A + B =\n",
            "[[ 8 10 12]\n",
            " [14 16 18]]\n"
          ]
        }
      ]
    },
    {
      "cell_type": "code",
      "source": [
        "# scalar multiplication\n",
        "\n",
        "print(\"2 * A =\")\n",
        "print(2 * A)\n"
      ],
      "metadata": {
        "colab": {
          "base_uri": "https://localhost:8080/"
        },
        "id": "F8ldCrRleie2",
        "outputId": "1e58c9c2-0e4d-4878-a0c4-57c6b25c6e4f"
      },
      "execution_count": 4,
      "outputs": [
        {
          "output_type": "stream",
          "name": "stdout",
          "text": [
            "2 * A =\n",
            "[[ 2  4  6]\n",
            " [ 8 10 12]]\n"
          ]
        }
      ]
    },
    {
      "cell_type": "code",
      "source": [
        "# multiplication\n",
        "\n",
        "C = np.array([[1, 0],\n",
        "              [0, 1],\n",
        "              [1, -1]])\n",
        "\n",
        "print(\"A * C =\")\n",
        "print(np.dot(A, C))\n"
      ],
      "metadata": {
        "colab": {
          "base_uri": "https://localhost:8080/"
        },
        "id": "tFE35OlkerhN",
        "outputId": "4dbefd78-aafc-426c-e516-cb3cfbf4d975"
      },
      "execution_count": 6,
      "outputs": [
        {
          "output_type": "stream",
          "name": "stdout",
          "text": [
            "A * C =\n",
            "[[ 4 -1]\n",
            " [10 -1]]\n"
          ]
        }
      ]
    },
    {
      "cell_type": "code",
      "source": [
        "I = np.eye(2)\n",
        "print(\"Macierz jednostkowa:\")\n",
        "print(I)\n"
      ],
      "metadata": {
        "colab": {
          "base_uri": "https://localhost:8080/"
        },
        "id": "L1oc0e0ofFg5",
        "outputId": "c8e4c58b-1e26-4526-c496-30c80c29d8f2"
      },
      "execution_count": 7,
      "outputs": [
        {
          "output_type": "stream",
          "name": "stdout",
          "text": [
            "Macierz jednostkowa:\n",
            "[[1. 0.]\n",
            " [0. 1.]]\n"
          ]
        }
      ]
    },
    {
      "cell_type": "code",
      "source": [
        "print(\"A transponowana:\")\n",
        "print(A.T)\n"
      ],
      "metadata": {
        "colab": {
          "base_uri": "https://localhost:8080/"
        },
        "id": "M2VWh3uYfGzF",
        "outputId": "a7dcd995-3c96-4a61-f148-a1199bd99803"
      },
      "execution_count": 8,
      "outputs": [
        {
          "output_type": "stream",
          "name": "stdout",
          "text": [
            "A transponowana:\n",
            "[[1 4]\n",
            " [2 5]\n",
            " [3 6]]\n"
          ]
        }
      ]
    },
    {
      "cell_type": "code",
      "source": [
        "ket1 = np.array([[1/np.sqrt(2)],\n",
        "                 [1/np.sqrt(2)]])\n",
        "\n",
        "bra1 = np.conj(ket1.T)\n",
        "\n",
        "print(\"Iloczyn ⟨ψ|ψ⟩:\")\n",
        "print(np.dot(bra1, ket1))  # result = [[1.]]\n"
      ],
      "metadata": {
        "id": "uDVFz7erptOR"
      },
      "execution_count": null,
      "outputs": []
    }
  ]
}